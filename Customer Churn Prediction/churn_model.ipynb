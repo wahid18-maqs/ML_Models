{
  "cells": [
    {
      "cell_type": "markdown",
      "metadata": {
        "id": "1MK95y8yEHfn"
      },
      "source": [
        "Churn Prediction Via customer Segmentation\n",
        "\n",
        "\n"
      ]
    },
    {
      "cell_type": "code",
      "source": [
        "import pandas as pd\n",
        "import numpy as np\n",
        "from sklearn.cluster import KMeans\n",
        "from sklearn.preprocessing import StandardScaler, LabelEncoder\n",
        "from sklearn.model_selection import train_test_split\n",
        "from sklearn.linear_model import LogisticRegression\n",
        "from sklearn.ensemble import GradientBoostingClassifier\n",
        "from sklearn.metrics import classification_report, roc_auc_score\n",
        "from imblearn.over_sampling import SMOTE\n",
        "import matplotlib.pyplot as plt\n",
        "from mpl_toolkits.mplot3d import Axes3D\n",
        "from sklearn.metrics import silhouette_score"
      ],
      "metadata": {
        "id": "b-VuMo8q90IQ"
      },
      "execution_count": 9,
      "outputs": []
    },
    {
      "cell_type": "code",
      "source": [
        "data = pd.read_csv(\"WA_Fn-UseC_-Telco-Customer-Churn.csv\")"
      ],
      "metadata": {
        "id": "sVy2Q4elAWWL"
      },
      "execution_count": 10,
      "outputs": []
    },
    {
      "cell_type": "code",
      "source": [
        "data_with_id = data.copy()"
      ],
      "metadata": {
        "id": "2IHu2c3CAZDx"
      },
      "execution_count": 11,
      "outputs": []
    },
    {
      "cell_type": "code",
      "source": [
        "data['TotalCharges'] = pd.to_numeric(data['TotalCharges'], errors='coerce').fillna(0)"
      ],
      "metadata": {
        "id": "2uwQCDnxAcJh"
      },
      "execution_count": 12,
      "outputs": []
    },
    {
      "cell_type": "code",
      "source": [
        "data = data.drop(columns=['customerID'])"
      ],
      "metadata": {
        "id": "vJC7fu7EAetf"
      },
      "execution_count": 13,
      "outputs": []
    },
    {
      "cell_type": "code",
      "source": [
        "label_encoders = {}\n",
        "for column in data.select_dtypes(include=['object']).columns:\n",
        "    label_encoders[column] = LabelEncoder()\n",
        "    data[column] = label_encoders[column].fit_transform(data[column])"
      ],
      "metadata": {
        "id": "TvPcNsGRAhkX"
      },
      "execution_count": 14,
      "outputs": []
    },
    {
      "cell_type": "code",
      "source": [
        "cluster_features = ['tenure', 'MonthlyCharges', 'TotalCharges']\n",
        "X_cluster = data[cluster_features]"
      ],
      "metadata": {
        "id": "37WCx7ciAlIZ"
      },
      "execution_count": 15,
      "outputs": []
    },
    {
      "cell_type": "code",
      "source": [
        "scaler_cluster = StandardScaler()\n",
        "X_cluster_scaled = scaler_cluster.fit_transform(X_cluster)"
      ],
      "metadata": {
        "id": "KZJ2zA9LAoLq"
      },
      "execution_count": 16,
      "outputs": []
    },
    {
      "cell_type": "code",
      "source": [
        "inertia = []\n",
        "for k in range(1, 11):\n",
        "    kmeans = KMeans(n_clusters=k, random_state=42)\n",
        "    kmeans.fit(X_cluster_scaled)\n",
        "    inertia.append(kmeans.inertia_)\n"
      ],
      "metadata": {
        "id": "_Ix6mA3JAq5y"
      },
      "execution_count": 17,
      "outputs": []
    },
    {
      "cell_type": "code",
      "source": [
        "plt.figure(figsize=(8, 5))\n",
        "plt.plot(range(1, 11), inertia, marker='o')\n",
        "plt.title('Elbow Method for Optimal k')\n",
        "plt.xlabel('Number of Clusters')\n",
        "plt.ylabel('Inertia')\n",
        "plt.savefig('elbow_curve.png')\n",
        "plt.close()"
      ],
      "metadata": {
        "id": "cCEzNJJLAuL8"
      },
      "execution_count": 18,
      "outputs": []
    },
    {
      "cell_type": "code",
      "source": [
        "kmeans = KMeans(n_clusters=5, random_state=42)\n",
        "data['Cluster'] = kmeans.fit_predict(X_cluster_scaled)"
      ],
      "metadata": {
        "id": "TxzDbDjFAx4Z"
      },
      "execution_count": 19,
      "outputs": []
    },
    {
      "cell_type": "code",
      "source": [
        "cluster_analysis = data.groupby('Cluster')[cluster_features].mean()\n",
        "print(\"Cluster Analysis:\")\n",
        "print(cluster_analysis)"
      ],
      "metadata": {
        "id": "QZURdlG-A0xd",
        "outputId": "fe7ce102-2352-40d9-bc2c-1435d1c10a0d",
        "colab": {
          "base_uri": "https://localhost:8080/"
        }
      },
      "execution_count": 20,
      "outputs": [
        {
          "output_type": "stream",
          "name": "stdout",
          "text": [
            "Cluster Analysis:\n",
            "            tenure  MonthlyCharges  TotalCharges\n",
            "Cluster                                         \n",
            "0        53.191623       28.391937   1485.135550\n",
            "1        65.222222       99.020414   6447.067019\n",
            "2         9.867112       31.608586    295.609223\n",
            "3        11.805830       79.516736    931.631858\n",
            "4        46.418773       80.772960   3646.253755\n"
          ]
        }
      ]
    },
    {
      "cell_type": "code",
      "source": [
        "centroids_scaled = kmeans.cluster_centers_\n",
        "centroids = scaler_cluster.inverse_transform(centroids_scaled)"
      ],
      "metadata": {
        "id": "cYjcaa_9A32X"
      },
      "execution_count": 21,
      "outputs": []
    },
    {
      "cell_type": "code",
      "source": [
        "fig = plt.figure(figsize=(10, 8))\n",
        "ax = fig.add_subplot(111, projection='3d')"
      ],
      "metadata": {
        "id": "ZQll5j4mA6-F"
      },
      "execution_count": null,
      "outputs": []
    },
    {
      "cell_type": "code",
      "source": [
        "scatter = ax.scatter(\n",
        "    data['tenure'],\n",
        "    data['MonthlyCharges'],\n",
        "    data['TotalCharges'],\n",
        "    c=data['Cluster'],\n",
        "    cmap='viridis',\n",
        "    alpha=0.6,\n",
        "    label='Customers'\n",
        ")"
      ],
      "metadata": {
        "id": "CqWyUzaAA92E"
      },
      "execution_count": 23,
      "outputs": []
    },
    {
      "cell_type": "code",
      "source": [
        "ax.scatter(\n",
        "    centroids[:, 0],\n",
        "    centroids[:, 1],\n",
        "    centroids[:, 2],\n",
        "    c='red',\n",
        "    marker='*',\n",
        "    s=300,\n",
        "    label='Centroids'\n",
        ")"
      ],
      "metadata": {
        "id": "r40IBCQ1BAXF",
        "outputId": "e5a60c02-7865-4d4e-8644-88d318661595",
        "colab": {
          "base_uri": "https://localhost:8080/"
        }
      },
      "execution_count": 24,
      "outputs": [
        {
          "output_type": "execute_result",
          "data": {
            "text/plain": [
              "<mpl_toolkits.mplot3d.art3d.Path3DCollection at 0x7caff0951810>"
            ]
          },
          "metadata": {},
          "execution_count": 24
        }
      ]
    },
    {
      "cell_type": "code",
      "source": [
        "ax.set_xlabel('Tenure')\n",
        "ax.set_ylabel('Monthly Charges')\n",
        "ax.set_zlabel('Total Charges')\n",
        "ax.set_title('3D Clusters and Centroids')\n",
        "plt.legend()\n",
        "plt.colorbar(scatter, label='Cluster')\n",
        "plt.savefig('cluster_3d_plot.png')\n",
        "plt.close()"
      ],
      "metadata": {
        "id": "bLYYczDUBFXk",
        "outputId": "f0c4546c-ec5d-46d3-82ea-644558d5284e",
        "colab": {
          "base_uri": "https://localhost:8080/"
        }
      },
      "execution_count": 25,
      "outputs": [
        {
          "output_type": "stream",
          "name": "stderr",
          "text": [
            "<ipython-input-25-86abf47a9050>:5: UserWarning: No artists with labels found to put in legend.  Note that artists whose label start with an underscore are ignored when legend() is called with no argument.\n",
            "  plt.legend()\n",
            "<ipython-input-25-86abf47a9050>:6: UserWarning: Adding colorbar to a different Figure <Figure size 1000x800 with 2 Axes> than <Figure size 640x480 with 1 Axes> which fig.colorbar is called on.\n",
            "  plt.colorbar(scatter, label='Cluster')\n"
          ]
        }
      ]
    },
    {
      "cell_type": "code",
      "source": [
        "X = data.drop(columns=['Churn'])\n",
        "y = data['Churn']\n"
      ],
      "metadata": {
        "id": "LFdJ5I8BBKVh"
      },
      "execution_count": 26,
      "outputs": []
    },
    {
      "cell_type": "code",
      "source": [
        "scaler_churn = StandardScaler()\n",
        "# Fit and transform the features (X) before splitting\n",
        "X_scaled = scaler_churn.fit_transform(X)\n",
        "\n",
        "# Step 5: Train-Test Split (using scaled features)\n",
        "X_train, X_test, y_train, y_test = train_test_split(X_scaled, y, test_size=0.2, random_state=42)\n",
        "\n",
        "# Step 6: Apply SMOTE to Handle Class Imbalance\n",
        "smote = SMOTE(random_state=42)\n",
        "X_train_resampled, y_train_resampled = smote.fit_resample(X_train, y_train)\n",
        "\n",
        "# Step 7: Train Churn Prediction Models\n",
        "# Logistic Regression (using resampled data)\n",
        "lr_model = LogisticRegression(max_iter=1000, random_state=42)\n",
        "lr_model.fit(X_train_resampled, y_train_resampled)\n",
        "lr_pred = lr_model.predict(X_test)\n",
        "lr_prob = lr_model.predict_proba(X_test)[:, 1]\n",
        "\n",
        "# Gradient Boosting (using resampled data)\n",
        "gb_model = GradientBoostingClassifier(random_state=42)\n",
        "gb_model.fit(X_train_resampled, y_train_resampled)\n",
        "gb_pred = gb_model.predict(X_test)\n",
        "gb_prob = gb_model.predict_proba(X_test)[:, 1]"
      ],
      "metadata": {
        "id": "0Vd490b1BdKB"
      },
      "execution_count": 27,
      "outputs": []
    },
    {
      "cell_type": "code",
      "source": [
        "print(\"\\nLogistic Regression Performance (with SMOTE):\")\n",
        "print(classification_report(y_test, lr_pred))\n",
        "print(\"AUC-ROC:\", roc_auc_score(y_test, lr_prob))"
      ],
      "metadata": {
        "id": "WSJsTZsbBip-",
        "outputId": "d526eed0-4ec4-4c1d-c034-5aeb4b832359",
        "colab": {
          "base_uri": "https://localhost:8080/"
        }
      },
      "execution_count": 28,
      "outputs": [
        {
          "output_type": "stream",
          "name": "stdout",
          "text": [
            "\n",
            "Logistic Regression Performance (with SMOTE):\n",
            "              precision    recall  f1-score   support\n",
            "\n",
            "           0       0.92      0.74      0.82      1036\n",
            "           1       0.53      0.83      0.65       373\n",
            "\n",
            "    accuracy                           0.76      1409\n",
            "   macro avg       0.73      0.78      0.73      1409\n",
            "weighted avg       0.82      0.76      0.77      1409\n",
            "\n",
            "AUC-ROC: 0.8609999792975664\n"
          ]
        }
      ]
    },
    {
      "cell_type": "code",
      "source": [
        "print(\"\\nGradient Boosting Performance (with SMOTE):\")\n",
        "print(classification_report(y_test, gb_pred))\n",
        "print(\"AUC-ROC:\", roc_auc_score(y_test, gb_prob))"
      ],
      "metadata": {
        "id": "lq_DT_ATBmJc",
        "outputId": "3c6e8722-158d-438d-846c-fea23b87ef53",
        "colab": {
          "base_uri": "https://localhost:8080/"
        }
      },
      "execution_count": 29,
      "outputs": [
        {
          "output_type": "stream",
          "name": "stdout",
          "text": [
            "\n",
            "Gradient Boosting Performance (with SMOTE):\n",
            "              precision    recall  f1-score   support\n",
            "\n",
            "           0       0.90      0.81      0.85      1036\n",
            "           1       0.59      0.75      0.66       373\n",
            "\n",
            "    accuracy                           0.79      1409\n",
            "   macro avg       0.74      0.78      0.76      1409\n",
            "weighted avg       0.82      0.79      0.80      1409\n",
            "\n",
            "AUC-ROC: 0.8573537631848624\n"
          ]
        }
      ]
    },
    {
      "cell_type": "code",
      "source": [
        "plt.figure(figsize=(14, 7))  # wider frame for long feature names\n",
        "feature_importance.plot(kind='bar', color='skyblue', edgecolor='black')\n",
        "\n",
        "plt.figure(figsize=(16, 8))  # wider and taller\n",
        "feature_importance.plot(kind='bar', color='skyblue', edgecolor='black')\n",
        "\n",
        "plt.title('Feature Importance (Gradient Boosting with SMOTE)', fontsize=16)\n",
        "plt.xlabel('Features', fontsize=14)\n",
        "plt.ylabel('Importance', fontsize=14)\n",
        "plt.xticks(rotation=45, ha='right', fontsize=12)\n",
        "plt.yticks(fontsize=12)\n",
        "\n",
        "plt.subplots_adjust(bottom=0.25)  # <-- more space below x-axis\n",
        "plt.savefig('feature_importance_fixed.png', bbox_inches='tight', dpi=300)\n",
        "plt.close()"
      ],
      "metadata": {
        "id": "zirmqy2RBrnY",
        "outputId": "f348d7fd-2018-4ed1-e4fd-271679a179ec",
        "colab": {
          "base_uri": "https://localhost:8080/",
          "height": 705
        }
      },
      "execution_count": 30,
      "outputs": [
        {
          "output_type": "display_data",
          "data": {
            "text/plain": [
              "<Figure size 1400x700 with 1 Axes>"
            ],
            "image/png": "[encoded data removed]"
          },
          "metadata": {}
        }
      ]
    },
    {
      "cell_type": "code",
      "source": [
        "print(\"\\nEnter a customerID to predict churn (e.g., '7590-VHVEG'):\")\n",
        "customer_id = input().strip()\n",
        "\n",
        "# Find the customer in the original dataset\n",
        "customer_data = data_with_id[data_with_id['customerID'] == customer_id]\n",
        "\n",
        "if customer_data.empty:\n",
        "    print(f\"CustomerID '{customer_id}' not found in the dataset.\")\n",
        "else:\n",
        "    # Prepare the customer data for prediction\n",
        "    customer_data_processed = customer_data.copy()\n",
        "    customer_data_processed['TotalCharges'] = pd.to_numeric(customer_data_processed['TotalCharges'], errors='coerce').fillna(0)\n",
        "    customer_data_processed = customer_data_processed.drop(columns=['customerID'])\n",
        "\n",
        "    # Encode categorical variables using the same label encoders\n",
        "    for column in customer_data_processed.select_dtypes(include=['object']).columns:\n",
        "        if column in label_encoders:\n",
        "            customer_data_processed[column] = label_encoders[column].transform(customer_data_processed[column])\n",
        "\n",
        "    # Add cluster label\n",
        "    customer_cluster_features = customer_data_processed[cluster_features]\n",
        "    customer_cluster_scaled = scaler_cluster.transform(customer_cluster_features)\n",
        "    customer_data_processed['Cluster'] = kmeans.predict(customer_cluster_scaled)\n",
        "\n",
        "    # Prepare features for prediction\n",
        "    customer_features = customer_data_processed.drop(columns=['Churn'])\n",
        "    # Scale the customer features using the same scaler used for training\n",
        "    customer_features_scaled = scaler_churn.transform(customer_features)\n",
        "    # Convert to NumPy array to remove feature names (fix the warning)\n",
        "    customer_features_scaled = customer_features_scaled  # Already a NumPy array from scaler.transform\n",
        "\n",
        "    # Predict churn using Gradient Boosting\n",
        "    churn_prediction = gb_model.predict(customer_features_scaled)\n",
        "    churn_probability = gb_model.predict_proba(customer_features_scaled)[0, 1]\n",
        "\n",
        "    # Display result\n",
        "    churn_result = \"Yes\" if churn_prediction[0] == 1 else \"No\"\n",
        "    print(f\"\\nCustomerID: {customer_id}\")\n",
        "    print(f\"Predicted Churn: {churn_result}\")\n",
        "    print(f\"Probability of Churn: {churn_probability:.2%}\")"
      ],
      "metadata": {
        "collapsed": true,
        "id": "l5DST0pxBw2T"
      },
      "execution_count": null,
      "outputs": []
    }
  ],
  "metadata": {
    "colab": {
      "provenance": []
    },
    "kernelspec": {
      "display_name": "Python 3",
      "name": "python3"
    },
    "language_info": {
      "name": "python"
    }
  },
  "nbformat": 4,
  "nbformat_minor": 0
}